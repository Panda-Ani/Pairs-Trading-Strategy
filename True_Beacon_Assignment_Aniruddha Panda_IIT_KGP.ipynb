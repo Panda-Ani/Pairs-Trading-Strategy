{
 "cells": [
  {
   "cell_type": "markdown",
   "id": "df38b0b8",
   "metadata": {},
   "source": [
    "# Three Trading Strategies have been implemented in the pairs trading\n",
    "\n",
    "1) Z-Score based Strategy\n",
    "\n",
    "2) Z-Score based Strategy (With Stop-loss and Take-Profit)\n",
    "\n",
    "3) Moving Average Crossover Strategy"
   ]
  },
  {
   "cell_type": "code",
   "execution_count": 1,
   "id": "1aead54f",
   "metadata": {},
   "outputs": [],
   "source": [
    "import numpy as np\n",
    "import pandas as pd\n",
    "import matplotlib.pyplot as plt\n",
    "import statsmodels.api as sm"
   ]
  },
  {
   "cell_type": "code",
   "execution_count": 2,
   "id": "45044f86",
   "metadata": {},
   "outputs": [],
   "source": [
    "import warnings\n",
    "\n",
    "# Ignore all warnings\n",
    "warnings.filterwarnings(\"ignore\")"
   ]
  },
  {
   "cell_type": "code",
   "execution_count": 3,
   "id": "23f6c97f",
   "metadata": {},
   "outputs": [],
   "source": [
    "data = pd.read_parquet('data.parquet')"
   ]
  },
  {
   "cell_type": "code",
   "execution_count": 4,
   "id": "3e5c76d9",
   "metadata": {},
   "outputs": [
    {
     "data": {
      "text/html": [
       "<div>\n",
       "<style scoped>\n",
       "    .dataframe tbody tr th:only-of-type {\n",
       "        vertical-align: middle;\n",
       "    }\n",
       "\n",
       "    .dataframe tbody tr th {\n",
       "        vertical-align: top;\n",
       "    }\n",
       "\n",
       "    .dataframe thead th {\n",
       "        text-align: right;\n",
       "    }\n",
       "</style>\n",
       "<table border=\"1\" class=\"dataframe\">\n",
       "  <thead>\n",
       "    <tr style=\"text-align: right;\">\n",
       "      <th></th>\n",
       "      <th>banknifty</th>\n",
       "      <th>nifty</th>\n",
       "      <th>tte</th>\n",
       "    </tr>\n",
       "    <tr>\n",
       "      <th>time</th>\n",
       "      <th></th>\n",
       "      <th></th>\n",
       "      <th></th>\n",
       "    </tr>\n",
       "  </thead>\n",
       "  <tbody>\n",
       "    <tr>\n",
       "      <th>2021-01-01 09:15:00</th>\n",
       "      <td>0.286058</td>\n",
       "      <td>0.199729</td>\n",
       "      <td>27</td>\n",
       "    </tr>\n",
       "    <tr>\n",
       "      <th>2021-01-01 09:16:00</th>\n",
       "      <td>0.285381</td>\n",
       "      <td>0.200433</td>\n",
       "      <td>27</td>\n",
       "    </tr>\n",
       "    <tr>\n",
       "      <th>2021-01-01 09:17:00</th>\n",
       "      <td>0.284233</td>\n",
       "      <td>0.200004</td>\n",
       "      <td>27</td>\n",
       "    </tr>\n",
       "    <tr>\n",
       "      <th>2021-01-01 09:18:00</th>\n",
       "      <td>0.286104</td>\n",
       "      <td>0.199860</td>\n",
       "      <td>27</td>\n",
       "    </tr>\n",
       "    <tr>\n",
       "      <th>2021-01-01 09:19:00</th>\n",
       "      <td>0.285539</td>\n",
       "      <td>0.198951</td>\n",
       "      <td>27</td>\n",
       "    </tr>\n",
       "  </tbody>\n",
       "</table>\n",
       "</div>"
      ],
      "text/plain": [
       "                     banknifty     nifty  tte\n",
       "time                                         \n",
       "2021-01-01 09:15:00   0.286058  0.199729   27\n",
       "2021-01-01 09:16:00   0.285381  0.200433   27\n",
       "2021-01-01 09:17:00   0.284233  0.200004   27\n",
       "2021-01-01 09:18:00   0.286104  0.199860   27\n",
       "2021-01-01 09:19:00   0.285539  0.198951   27"
      ]
     },
     "execution_count": 4,
     "metadata": {},
     "output_type": "execute_result"
    }
   ],
   "source": [
    "data.head()"
   ]
  },
  {
   "cell_type": "code",
   "execution_count": 5,
   "id": "a9db6164",
   "metadata": {
    "scrolled": true
   },
   "outputs": [
    {
     "data": {
      "text/plain": [
       "banknifty    1500\n",
       "nifty        2000\n",
       "tte             0\n",
       "dtype: int64"
      ]
     },
     "execution_count": 5,
     "metadata": {},
     "output_type": "execute_result"
    }
   ],
   "source": [
    "data.isnull().sum()"
   ]
  },
  {
   "cell_type": "code",
   "execution_count": 6,
   "id": "bb7a40c5",
   "metadata": {},
   "outputs": [],
   "source": [
    "data = data.bfill()"
   ]
  },
  {
   "cell_type": "code",
   "execution_count": 7,
   "id": "1c23a743",
   "metadata": {},
   "outputs": [],
   "source": [
    "data = data.resample('15T').mean()"
   ]
  },
  {
   "cell_type": "code",
   "execution_count": 8,
   "id": "98f1c0be",
   "metadata": {},
   "outputs": [],
   "source": [
    "# Defining Spread\n",
    "data['Spread'] = data['banknifty'] - data['nifty']"
   ]
  },
  {
   "cell_type": "markdown",
   "id": "56fa959d",
   "metadata": {},
   "source": [
    "# Co-integration"
   ]
  },
  {
   "cell_type": "code",
   "execution_count": 9,
   "id": "609bbd19",
   "metadata": {},
   "outputs": [
    {
     "name": "stdout",
     "output_type": "stream",
     "text": [
      "Length of BankNifty IV after cleaning: 46036\n",
      "Length of Nifty IV after cleaning: 46036\n",
      "Cointegration test statistic: -4.651546568464766\n",
      "P-value: 0.0006827635999184768\n",
      "Critical values at 1%, 5%, and 10% levels: [-3.89667792 -3.33626273 -3.04454213]\n",
      "The time series are likely cointegrated.\n"
     ]
    }
   ],
   "source": [
    "data['banknifty'] = data['banknifty'].replace([np.inf, -np.inf], np.nan)\n",
    "data['nifty'] = data['nifty'].replace([np.inf, -np.inf], np.nan)\n",
    "\n",
    "# Drop rows with 'NaN' values in either column\n",
    "data = data.dropna(subset=['banknifty', 'nifty'])\n",
    "\n",
    "# Check the length of the data after cleaning\n",
    "print(f\"Length of BankNifty IV after cleaning: {len(data['banknifty'])}\")\n",
    "print(f\"Length of Nifty IV after cleaning: {len(data['nifty'])}\")\n",
    "\n",
    "# Perform the cointegration test\n",
    "coint_test = sm.tsa.stattools.coint(data['banknifty'], data['nifty'])\n",
    "\n",
    "# Output results\n",
    "print(f\"Cointegration test statistic: {coint_test[0]}\")\n",
    "print(f\"P-value: {coint_test[1]}\")\n",
    "print(f\"Critical values at 1%, 5%, and 10% levels: {coint_test[2]}\")\n",
    "\n",
    "# Interpretation\n",
    "if coint_test[1] < 0.05:\n",
    "    print(\"The time series are likely cointegrated.\")\n",
    "else:\n",
    "    print(\"The time series are not likely cointegrated.\")"
   ]
  },
  {
   "cell_type": "code",
   "execution_count": 10,
   "id": "9c89dca3",
   "metadata": {
    "scrolled": true
   },
   "outputs": [
    {
     "data": {
      "image/png": "[encoded data removed]",
      "text/plain": [
       "<Figure size 720x432 with 1 Axes>"
      ]
     },
     "metadata": {
      "needs_background": "light"
     },
     "output_type": "display_data"
    }
   ],
   "source": [
    "# Ensure the column names match exactly with your DataFrame's columns\n",
    "banknifty_iv = data['banknifty'].to_numpy()  # Convert the column to a numpy array\n",
    "nifty_iv = data['nifty'].to_numpy()  # Convert the column to a numpy array\n",
    "spread_iv =- (data['nifty'].to_numpy() - data['banknifty'].to_numpy())  # Convert the column to a numpy array\n",
    "dates = data.index.to_numpy()  # Ensure the index is in a proper format\n",
    "\n",
    "plt.figure(figsize=(10, 6))\n",
    "plt.plot(dates, banknifty_iv, label='Bank Nifty IV')\n",
    "plt.plot(dates, spread_iv, label='Spread IV')\n",
    "plt.plot(dates, nifty_iv, label='Nifty IV')\n",
    "plt.xlabel('Time')\n",
    "plt.ylabel('Implied Volatility (IV)')\n",
    "plt.legend()\n",
    "plt.show()"
   ]
  },
  {
   "cell_type": "markdown",
   "id": "33b85071",
   "metadata": {},
   "source": [
    "# Z-Score Based Trading Strategy (Without Stop-loss)"
   ]
  },
  {
   "cell_type": "code",
   "execution_count": 11,
   "id": "9b4ea415",
   "metadata": {},
   "outputs": [],
   "source": [
    "window_size = 30  # Lookback period for calculating the moving average and standard deviation\n",
    "data['Spread MA'] = data['Spread'].rolling(window=window_size).mean()\n",
    "data['Spread Std'] = data['Spread'].rolling(window=window_size).std()\n",
    "\n",
    "# Calculate the Z-score of the IV spread\n",
    "data['Z-Score'] = (data['Spread'] - data['Spread MA']) / data['Spread Std']"
   ]
  },
  {
   "cell_type": "code",
   "execution_count": 12,
   "id": "c33ad969",
   "metadata": {
    "scrolled": true
   },
   "outputs": [
    {
     "data": {
      "text/plain": [
       "count    16268.000000\n",
       "mean        -0.033349\n",
       "std          1.546481\n",
       "min         -5.294651\n",
       "25%         -0.876265\n",
       "50%         -0.182574\n",
       "75%          0.768077\n",
       "max          5.294651\n",
       "Name: Z-Score, dtype: float64"
      ]
     },
     "execution_count": 12,
     "metadata": {},
     "output_type": "execute_result"
    }
   ],
   "source": [
    "data['Z-Score'].describe()"
   ]
  },
  {
   "cell_type": "markdown",
   "id": "7cebe05f",
   "metadata": {},
   "source": [
    "Defining Signal"
   ]
  },
  {
   "cell_type": "code",
   "execution_count": 13,
   "id": "f3a91a64",
   "metadata": {},
   "outputs": [],
   "source": [
    "signal_entry = (1.5*data['Z-Score'].std()+data['Z-Score'].mean()) # 1.5times std \n",
    "signal_exit = 0"
   ]
  },
  {
   "cell_type": "code",
   "execution_count": 14,
   "id": "5aae9ad1",
   "metadata": {},
   "outputs": [],
   "source": [
    "zscore = data['Z-Score']"
   ]
  },
  {
   "cell_type": "code",
   "execution_count": 15,
   "id": "5c778847",
   "metadata": {},
   "outputs": [],
   "source": [
    "btest = pd.DataFrame ()\n",
    "btest[\"banknifty\"] = data[ \"banknifty\"]\n",
    "btest[\"nifty\"] = data[\"nifty\"]\n",
    "btest[\"short signal\"] = (zscore > signal_entry) & (zscore.shift(1) < signal_entry)\n",
    "btest[\"short exit\"] = (zscore < signal_exit) & (zscore.shift(1) > signal_exit)\n",
    "btest[\"long signal\"] = (zscore < -signal_entry) & (zscore.shift(1) > -signal_entry)\n",
    "btest[\"long exit\"] = (zscore > -signal_exit) & (zscore.shift(1) < -signal_exit)"
   ]
  },
  {
   "cell_type": "code",
   "execution_count": 16,
   "id": "72113893",
   "metadata": {
    "scrolled": true
   },
   "outputs": [
    {
     "data": {
      "text/html": [
       "<div>\n",
       "<style scoped>\n",
       "    .dataframe tbody tr th:only-of-type {\n",
       "        vertical-align: middle;\n",
       "    }\n",
       "\n",
       "    .dataframe tbody tr th {\n",
       "        vertical-align: top;\n",
       "    }\n",
       "\n",
       "    .dataframe thead th {\n",
       "        text-align: right;\n",
       "    }\n",
       "</style>\n",
       "<table border=\"1\" class=\"dataframe\">\n",
       "  <thead>\n",
       "    <tr style=\"text-align: right;\">\n",
       "      <th></th>\n",
       "      <th>banknifty</th>\n",
       "      <th>nifty</th>\n",
       "      <th>short signal</th>\n",
       "      <th>short exit</th>\n",
       "      <th>long signal</th>\n",
       "      <th>long exit</th>\n",
       "    </tr>\n",
       "    <tr>\n",
       "      <th>time</th>\n",
       "      <th></th>\n",
       "      <th></th>\n",
       "      <th></th>\n",
       "      <th></th>\n",
       "      <th></th>\n",
       "      <th></th>\n",
       "    </tr>\n",
       "  </thead>\n",
       "  <tbody>\n",
       "    <tr>\n",
       "      <th>2021-01-01 09:15:00</th>\n",
       "      <td>0.282703</td>\n",
       "      <td>0.197694</td>\n",
       "      <td>False</td>\n",
       "      <td>False</td>\n",
       "      <td>False</td>\n",
       "      <td>False</td>\n",
       "    </tr>\n",
       "    <tr>\n",
       "      <th>2021-01-01 09:30:00</th>\n",
       "      <td>0.274553</td>\n",
       "      <td>0.194369</td>\n",
       "      <td>False</td>\n",
       "      <td>False</td>\n",
       "      <td>False</td>\n",
       "      <td>False</td>\n",
       "    </tr>\n",
       "    <tr>\n",
       "      <th>2021-01-01 09:45:00</th>\n",
       "      <td>0.270589</td>\n",
       "      <td>0.192737</td>\n",
       "      <td>False</td>\n",
       "      <td>False</td>\n",
       "      <td>False</td>\n",
       "      <td>False</td>\n",
       "    </tr>\n",
       "    <tr>\n",
       "      <th>2021-01-01 10:00:00</th>\n",
       "      <td>0.266847</td>\n",
       "      <td>0.189861</td>\n",
       "      <td>False</td>\n",
       "      <td>False</td>\n",
       "      <td>False</td>\n",
       "      <td>False</td>\n",
       "    </tr>\n",
       "    <tr>\n",
       "      <th>2021-01-01 10:15:00</th>\n",
       "      <td>0.268316</td>\n",
       "      <td>0.189841</td>\n",
       "      <td>False</td>\n",
       "      <td>False</td>\n",
       "      <td>False</td>\n",
       "      <td>False</td>\n",
       "    </tr>\n",
       "    <tr>\n",
       "      <th>...</th>\n",
       "      <td>...</td>\n",
       "      <td>...</td>\n",
       "      <td>...</td>\n",
       "      <td>...</td>\n",
       "      <td>...</td>\n",
       "      <td>...</td>\n",
       "    </tr>\n",
       "    <tr>\n",
       "      <th>2022-06-30 14:30:00</th>\n",
       "      <td>0.239204</td>\n",
       "      <td>0.213454</td>\n",
       "      <td>False</td>\n",
       "      <td>False</td>\n",
       "      <td>False</td>\n",
       "      <td>False</td>\n",
       "    </tr>\n",
       "    <tr>\n",
       "      <th>2022-06-30 14:45:00</th>\n",
       "      <td>0.239390</td>\n",
       "      <td>0.212878</td>\n",
       "      <td>False</td>\n",
       "      <td>False</td>\n",
       "      <td>False</td>\n",
       "      <td>False</td>\n",
       "    </tr>\n",
       "    <tr>\n",
       "      <th>2022-06-30 15:00:00</th>\n",
       "      <td>0.238744</td>\n",
       "      <td>0.211774</td>\n",
       "      <td>False</td>\n",
       "      <td>False</td>\n",
       "      <td>False</td>\n",
       "      <td>True</td>\n",
       "    </tr>\n",
       "    <tr>\n",
       "      <th>2022-06-30 15:15:00</th>\n",
       "      <td>0.239430</td>\n",
       "      <td>0.214347</td>\n",
       "      <td>False</td>\n",
       "      <td>True</td>\n",
       "      <td>False</td>\n",
       "      <td>False</td>\n",
       "    </tr>\n",
       "    <tr>\n",
       "      <th>2022-06-30 15:30:00</th>\n",
       "      <td>0.241907</td>\n",
       "      <td>0.216081</td>\n",
       "      <td>False</td>\n",
       "      <td>False</td>\n",
       "      <td>False</td>\n",
       "      <td>False</td>\n",
       "    </tr>\n",
       "  </tbody>\n",
       "</table>\n",
       "<p>46036 rows × 6 columns</p>\n",
       "</div>"
      ],
      "text/plain": [
       "                     banknifty     nifty  short signal  short exit  \\\n",
       "time                                                                 \n",
       "2021-01-01 09:15:00   0.282703  0.197694         False       False   \n",
       "2021-01-01 09:30:00   0.274553  0.194369         False       False   \n",
       "2021-01-01 09:45:00   0.270589  0.192737         False       False   \n",
       "2021-01-01 10:00:00   0.266847  0.189861         False       False   \n",
       "2021-01-01 10:15:00   0.268316  0.189841         False       False   \n",
       "...                        ...       ...           ...         ...   \n",
       "2022-06-30 14:30:00   0.239204  0.213454         False       False   \n",
       "2022-06-30 14:45:00   0.239390  0.212878         False       False   \n",
       "2022-06-30 15:00:00   0.238744  0.211774         False       False   \n",
       "2022-06-30 15:15:00   0.239430  0.214347         False        True   \n",
       "2022-06-30 15:30:00   0.241907  0.216081         False       False   \n",
       "\n",
       "                     long signal  long exit  \n",
       "time                                         \n",
       "2021-01-01 09:15:00        False      False  \n",
       "2021-01-01 09:30:00        False      False  \n",
       "2021-01-01 09:45:00        False      False  \n",
       "2021-01-01 10:00:00        False      False  \n",
       "2021-01-01 10:15:00        False      False  \n",
       "...                          ...        ...  \n",
       "2022-06-30 14:30:00        False      False  \n",
       "2022-06-30 14:45:00        False      False  \n",
       "2022-06-30 15:00:00        False       True  \n",
       "2022-06-30 15:15:00        False      False  \n",
       "2022-06-30 15:30:00        False      False  \n",
       "\n",
       "[46036 rows x 6 columns]"
      ]
     },
     "execution_count": 16,
     "metadata": {},
     "output_type": "execute_result"
    }
   ],
   "source": [
    "btest"
   ]
  },
  {
   "cell_type": "markdown",
   "id": "72691275",
   "metadata": {},
   "source": [
    "getting signals"
   ]
  },
  {
   "cell_type": "code",
   "execution_count": 17,
   "id": "3314cb89",
   "metadata": {
    "scrolled": true
   },
   "outputs": [],
   "source": [
    "spread_side = None; counter = -1\n",
    "backtest_result = []; indicator = 0\n",
    "\n",
    "for time, signals_stock in btest.iterrows():\n",
    "    counter+=1\n",
    "    stock2_, stock1_, short_signal, short_exit, long_signal, long_exit = signals_stock\n",
    "    \n",
    "    if spread_side == None:\n",
    "        backtest_result. append([time, spread_side])\n",
    "        \n",
    "        if short_signal == True:\n",
    "            spread_side = \"short\"\n",
    "        elif long_signal == True:\n",
    "            spread_side = \"long\"\n",
    "        \n",
    "    elif spread_side == \"long\":\n",
    "        backtest_result.append([time, spread_side])\n",
    "        \n",
    "        if long_exit == True:\n",
    "            spread_side = None\n",
    "            \n",
    "    elif spread_side == \"short\":\n",
    "        backtest_result.append([time, spread_side])\n",
    "                                                         \n",
    "        if short_exit == True:\n",
    "            spread_side = None"
   ]
  },
  {
   "cell_type": "code",
   "execution_count": 18,
   "id": "99d73131",
   "metadata": {
    "scrolled": true
   },
   "outputs": [],
   "source": [
    "backtest_pandas = pd.DataFrame(backtest_result)\n",
    "backtest_pandas.columns = [\"Date\", \"Side\"]\n",
    "backtest_pandas['Spread'] = data['Spread'].values\n",
    "backtest_pandas['tte'] = data['tte'].values"
   ]
  },
  {
   "cell_type": "markdown",
   "id": "4c84b284",
   "metadata": {},
   "source": [
    "Calculating the pnl"
   ]
  },
  {
   "cell_type": "code",
   "execution_count": 19,
   "id": "cb9c6861",
   "metadata": {},
   "outputs": [],
   "source": [
    "def calculated_pnl(dataframe):\n",
    "    realized_pnl = 0\n",
    "    unrealized_pnl = 0\n",
    "    position_open = False\n",
    "    opening_spread = 0\n",
    "    opening_tte = 0\n",
    "    current_side = None\n",
    "    daily_realized_pnl = []\n",
    "    daily_unrealized_pnl = []\n",
    "\n",
    "    for _, row in dataframe.iterrows():\n",
    "        # Calculate unrealized PnL\n",
    "        if position_open:\n",
    "            if current_side == 'long':\n",
    "                unrealized_pnl = (row['Spread'] * (row['tte'] ** 0.7) - opening_spread * (opening_tte ** 0.7))\n",
    "            elif current_side == 'short':\n",
    "                unrealized_pnl = (opening_spread * (opening_tte ** 0.7) - row['Spread'] * (row['tte'] ** 0.7))\n",
    "\n",
    "        # Check for side change (from long to short or short to long) to realize PnL\n",
    "        if row['Side'] != None and position_open and row['Side'] != current_side:\n",
    "            # Realize the PnL when the side changes\n",
    "            realized_pnl += unrealized_pnl\n",
    "            unrealized_pnl = 0  # Reset unrealized PnL\n",
    "\n",
    "        # Open or change position\n",
    "        if row['Side'] != None and (not position_open or row['Side'] != current_side):\n",
    "            position_open = True\n",
    "            current_side = row['Side']\n",
    "            opening_spread = row['Spread']\n",
    "            opening_tte = row['tte']\n",
    "\n",
    "        daily_realized_pnl.append(realized_pnl)\n",
    "        daily_unrealized_pnl.append(unrealized_pnl)\n",
    "\n",
    "    dataframe['Daily Realized PnL'] = daily_realized_pnl\n",
    "    dataframe['Daily Unrealized PnL'] = daily_unrealized_pnl\n",
    "    dataframe['Daily Total PnL'] = [r + u for r, u in zip(daily_realized_pnl, daily_unrealized_pnl)]\n",
    "\n",
    "    return dataframe, realized_pnl, unrealized_pnl\n"
   ]
  },
  {
   "cell_type": "code",
   "execution_count": 20,
   "id": "3bc7764a",
   "metadata": {},
   "outputs": [],
   "source": [
    "df, unrealised_pnl, realised_pnl = calculated_pnl(backtest_pandas)"
   ]
  },
  {
   "cell_type": "code",
   "execution_count": 21,
   "id": "bfe8bca9",
   "metadata": {},
   "outputs": [
    {
     "data": {
      "text/plain": [
       "<Figure size 1080x432 with 0 Axes>"
      ]
     },
     "metadata": {},
     "output_type": "display_data"
    },
    {
     "data": {
      "image/png": "[encoded data removed]",
      "text/plain": [
       "<Figure size 432x288 with 1 Axes>"
      ]
     },
     "metadata": {
      "needs_background": "light"
     },
     "output_type": "display_data"
    }
   ],
   "source": [
    "backtest_pandas[\"Total PL\"] = df['Daily Realized PnL']\n",
    "backtest_pandas.index = backtest_pandas[\"Date\"]\n",
    "\n",
    "plt.figure(figsize=(15, 6))\n",
    "backtest_pandas[[\"Total PL\"]].plot(label = \"Evolution Profit and Loss\")\n",
    "plt.title(\"Equity Curve Pairs Trading\")\n",
    "plt.xlabel('Time')\n",
    "plt.ylabel('Values')\n",
    "plt.legend()\n",
    "plt.show()"
   ]
  },
  {
   "cell_type": "code",
   "execution_count": 22,
   "id": "4b601705",
   "metadata": {},
   "outputs": [
    {
     "name": "stdout",
     "output_type": "stream",
     "text": [
      "Sharpe Ratio: 0.4596282136037853\n"
     ]
    }
   ],
   "source": [
    "df = df.dropna(subset=['Daily Realized PnL'])\n",
    "\n",
    "# Calculate daily returns\n",
    "df['Daily Return'] = df['Daily Realized PnL'].pct_change()\n",
    "\n",
    "# Drop any NaN created by the pct_change method\n",
    "df = df.dropna(subset=['Daily Return'])\n",
    "df.replace([np.inf, -np.inf], np.nan, inplace=True)\n",
    "\n",
    "# Ensure there is more than one unique return value to avoid division by zero in standard deviation\n",
    "if df['Daily Return'].nunique() > 1:\n",
    "    average_daily_return = df['Daily Return'].mean()\n",
    "    std_dev_daily_return = df['Daily Return'].std()\n",
    "\n",
    "    # Assuming the risk-free rate is close to 0% (adjust if you have a specific rate)\n",
    "    risk_free_rate = 0.0\n",
    "    annual_factor = 252*25  # Adjust based on your data's frequency\n",
    "\n",
    "    # Calculate the Sharpe Ratio (annualized)\n",
    "    sharpe_ratio = ((average_daily_return - risk_free_rate) / std_dev_daily_return) * np.sqrt(annual_factor)\n",
    "    print(f\"Sharpe Ratio: {sharpe_ratio}\")\n",
    "else:\n",
    "    print(\"Insufficient variation in daily returns to calculate Sharpe Ratio.\")"
   ]
  },
  {
   "cell_type": "code",
   "execution_count": 23,
   "id": "b78f044b",
   "metadata": {},
   "outputs": [],
   "source": [
    "# Calculate the running maximum\n",
    "running_max = df['Daily Realized PnL'].cummax()\n",
    "\n",
    "# Calculate the drawdown\n",
    "drawdown = (df['Daily Realized PnL'] - running_max) / running_max\n",
    "\n",
    "# Find the maximum drawdown (indexOf minimum drawdown)\n",
    "max_drawdown_index = drawdown.idxmin()\n",
    "\n",
    "# Access the drawdown value at the index of minimum drawdown\n",
    "max_drawdown = drawdown.loc[max_drawdown_index]"
   ]
  },
  {
   "cell_type": "code",
   "execution_count": 24,
   "id": "315373c6",
   "metadata": {},
   "outputs": [
    {
     "name": "stdout",
     "output_type": "stream",
     "text": [
      "Minimum Daily Realized PnL: 0.017461564679099373\n",
      "Maximum Daily Realized PnL: 3.9395216091404888\n",
      "Data type of Daily Realized PnL: float64\n"
     ]
    }
   ],
   "source": [
    "# Display the minimum and maximum values of the Daily Realized PnL column\n",
    "min_pnl = df['Daily Realized PnL'].min()\n",
    "max_pnl = df['Daily Realized PnL'].max()\n",
    "print(f\"Minimum Daily Realized PnL: {min_pnl}\")\n",
    "print(f\"Maximum Daily Realized PnL: {max_pnl}\")\n",
    "\n",
    "# Display the data type of the Daily Realized PnL column\n",
    "pnl_dtype = df['Daily Realized PnL'].dtype\n",
    "print(f\"Data type of Daily Realized PnL: {pnl_dtype}\")"
   ]
  },
  {
   "cell_type": "code",
   "execution_count": 25,
   "id": "593c3125",
   "metadata": {},
   "outputs": [
    {
     "name": "stdout",
     "output_type": "stream",
     "text": [
      "Drawdown(%): 0.9585018907408429\n"
     ]
    }
   ],
   "source": [
    "print(f\"Drawdown(%): {abs(max_drawdown)}\")"
   ]
  },
  {
   "cell_type": "markdown",
   "id": "252be228",
   "metadata": {},
   "source": [
    "# Z-Score Based Trading Strategy (with Stop-loss)"
   ]
  },
  {
   "cell_type": "code",
   "execution_count": 26,
   "id": "0c83fc06",
   "metadata": {},
   "outputs": [],
   "source": [
    "def calculate_pnl(dataframe, stop_loss_percent=0.2, risk_reward_ratio=2):\n",
    "    realized_pnl = 0\n",
    "    unrealized_pnl = 0\n",
    "    position_open = False\n",
    "    opening_spread = 0\n",
    "    opening_tte = 0\n",
    "    current_side = None\n",
    "    daily_realized_pnl = []\n",
    "    daily_unrealized_pnl = []\n",
    "\n",
    "    for _, row in dataframe.iterrows():\n",
    "        if position_open:\n",
    "            if current_side == 'long':\n",
    "                unrealized_pnl = (row['Spread'] * (row['tte'] ** 0.7) - opening_spread * (opening_tte ** 0.7))\n",
    "            elif current_side == 'short':\n",
    "                unrealized_pnl = (opening_spread * (opening_tte ** 0.7) - row['Spread'] * (row['tte'] ** 0.7))\n",
    "\n",
    "            # Check for stop loss or take profit\n",
    "            if current_side == 'long':\n",
    "                loss = (opening_spread * (opening_tte ** 0.7) - row['Spread'] * (row['tte'] ** 0.7))\n",
    "                profit_target = opening_spread * (opening_tte ** 0.7) + 2 * loss * risk_reward_ratio\n",
    "                if loss >= opening_spread * stop_loss_percent or row['Spread'] * (row['tte'] ** 0.7) >= profit_target:\n",
    "                    realized_pnl += unrealized_pnl\n",
    "                    position_open = False\n",
    "                    unrealized_pnl = 0\n",
    "\n",
    "            elif current_side == 'short':\n",
    "                loss = (row['Spread'] * (row['tte'] ** 0.7) - opening_spread * (opening_tte ** 0.7))\n",
    "                profit_target = opening_spread * (opening_tte ** 0.7) - 2 * loss * risk_reward_ratio\n",
    "                if loss >= opening_spread * stop_loss_percent or row['Spread'] * (row['tte'] ** 0.7) <= profit_target:\n",
    "                    realized_pnl += unrealized_pnl\n",
    "                    position_open = False\n",
    "                    unrealized_pnl = 0\n",
    "\n",
    "        if row['Side'] != None and (not position_open or row['Side'] != current_side):\n",
    "            position_open = True\n",
    "            current_side = row['Side']\n",
    "            opening_spread = row['Spread']\n",
    "            opening_tte = row['tte']\n",
    "\n",
    "        daily_realized_pnl.append(realized_pnl)\n",
    "        daily_unrealized_pnl.append(unrealized_pnl)\n",
    "\n",
    "    dataframe['Daily Realized PnL'] = daily_realized_pnl\n",
    "    dataframe['Daily Unrealized PnL'] = daily_unrealized_pnl\n",
    "    dataframe['Daily Total PnL'] = [r + u for r, u in zip(daily_realized_pnl, daily_unrealized_pnl)]\n",
    "\n",
    "    return dataframe, realized_pnl, unrealized_pnl"
   ]
  },
  {
   "cell_type": "code",
   "execution_count": 27,
   "id": "ca5d4b84",
   "metadata": {},
   "outputs": [],
   "source": [
    "df, unrealised_pnl, realised_pnl = calculate_pnl(backtest_pandas)"
   ]
  },
  {
   "cell_type": "code",
   "execution_count": 28,
   "id": "c344d913",
   "metadata": {
    "scrolled": true
   },
   "outputs": [
    {
     "data": {
      "text/plain": [
       "<Figure size 1080x432 with 0 Axes>"
      ]
     },
     "metadata": {},
     "output_type": "display_data"
    },
    {
     "data": {
      "image/png": "[encoded data removed]",
      "text/plain": [
       "<Figure size 432x288 with 1 Axes>"
      ]
     },
     "metadata": {
      "needs_background": "light"
     },
     "output_type": "display_data"
    }
   ],
   "source": [
    "backtest_pandas[\"Total PL\"] = df['Daily Realized PnL']\n",
    "backtest_pandas.index = backtest_pandas[\"Date\"]\n",
    "\n",
    "plt.figure(figsize=(15, 6))\n",
    "backtest_pandas[[\"Total PL\"]].plot(label = \"Evolution Profit and Loss\")\n",
    "plt.title(\"Equity Curve Pairs Trading\")\n",
    "plt.xlabel('Time')\n",
    "plt.ylabel('Values')\n",
    "plt.legend()\n",
    "plt.show()"
   ]
  },
  {
   "cell_type": "code",
   "execution_count": 29,
   "id": "ce6844a7",
   "metadata": {},
   "outputs": [
    {
     "name": "stdout",
     "output_type": "stream",
     "text": [
      "Sharpe Ratio: 0.8764127844424192\n"
     ]
    }
   ],
   "source": [
    "df = df.dropna(subset=['Daily Realized PnL'])\n",
    "\n",
    "# Calculate daily returns\n",
    "df['Daily Return'] = df['Daily Realized PnL'].pct_change()\n",
    "\n",
    "# Drop any NaN created by the pct_change method\n",
    "df = df.dropna(subset=['Daily Return'])\n",
    "df.replace([np.inf, -np.inf], np.nan, inplace=True)\n",
    "\n",
    "# Ensure there is more than one unique return value to avoid division by zero in standard deviation\n",
    "if df['Daily Return'].nunique() > 1:\n",
    "    average_daily_return = df['Daily Return'].mean()\n",
    "    std_dev_daily_return = df['Daily Return'].std()\n",
    "\n",
    "    # Assuming the risk-free rate is close to 0% (adjust if you have a specific rate)\n",
    "    risk_free_rate = 0.0\n",
    "    annual_factor = 252*25  # Adjust based on your data's frequency\n",
    "\n",
    "    # Calculate the Sharpe Ratio (annualized)\n",
    "    sharpe_ratio = ((average_daily_return - risk_free_rate) / std_dev_daily_return) * np.sqrt(annual_factor)\n",
    "    print(f\"Sharpe Ratio: {sharpe_ratio}\")\n",
    "else:\n",
    "    print(\"Insufficient variation in daily returns to calculate Sharpe Ratio.\")\n"
   ]
  },
  {
   "cell_type": "code",
   "execution_count": 30,
   "id": "3dbc401c",
   "metadata": {},
   "outputs": [],
   "source": [
    "# Calculate the running maximum\n",
    "running_max = df['Daily Realized PnL'].cummax()\n",
    "\n",
    "# Calculate the drawdown\n",
    "drawdown = (df['Daily Realized PnL'] - running_max) / running_max\n",
    "\n",
    "# Find the maximum drawdown (indexOf minimum drawdown)\n",
    "max_drawdown_index = drawdown.idxmin()\n",
    "\n",
    "# Access the drawdown value at the index of minimum drawdown\n",
    "max_drawdown = drawdown.loc[max_drawdown_index]"
   ]
  },
  {
   "cell_type": "code",
   "execution_count": 31,
   "id": "a753f502",
   "metadata": {},
   "outputs": [
    {
     "name": "stdout",
     "output_type": "stream",
     "text": [
      "Minimum Daily Realized PnL: -0.2170027290440334\n",
      "Maximum Daily Realized PnL: 7.993592165255563\n",
      "Data type of Daily Realized PnL: float64\n"
     ]
    }
   ],
   "source": [
    "# Display the minimum and maximum values of the Daily Realized PnL column\n",
    "min_pnl = df['Daily Realized PnL'].min()\n",
    "max_pnl = df['Daily Realized PnL'].max()\n",
    "print(f\"Minimum Daily Realized PnL: {min_pnl}\")\n",
    "print(f\"Maximum Daily Realized PnL: {max_pnl}\")\n",
    "\n",
    "# Display the data type of the Daily Realized PnL column\n",
    "pnl_dtype = df['Daily Realized PnL'].dtype\n",
    "print(f\"Data type of Daily Realized PnL: {pnl_dtype}\")"
   ]
  },
  {
   "cell_type": "code",
   "execution_count": 32,
   "id": "44912b36",
   "metadata": {
    "scrolled": true
   },
   "outputs": [
    {
     "name": "stdout",
     "output_type": "stream",
     "text": [
      "Drawdown(%): 1.3589401396699448\n"
     ]
    }
   ],
   "source": [
    "print(f\"Drawdown(%): {abs(max_drawdown)}\")"
   ]
  },
  {
   "cell_type": "markdown",
   "id": "b850e012",
   "metadata": {},
   "source": [
    "# Moving Average Crossover Strategy"
   ]
  },
  {
   "cell_type": "code",
   "execution_count": 45,
   "id": "b213fc05",
   "metadata": {},
   "outputs": [
    {
     "name": "stdout",
     "output_type": "stream",
     "text": [
      "Sharpe Ratio: 0.5857776967507844\n"
     ]
    }
   ],
   "source": [
    "# Calculate SMA and EMA\n",
    "window_short = 20  # Short window for EMA and SMA\n",
    "window_long = 30   # Long window for EMA and SMA\n",
    "\n",
    "data['ema_short'] = data['Spread'].ewm(span=window_short, adjust=False).mean()\n",
    "data['ema_long'] = data['Spread'].ewm(span=window_long, adjust=False).mean()\n",
    "\n",
    "data['sma_short'] = data['Spread'].rolling(window=window_short).mean()\n",
    "data['sma_long'] = data['Spread'].rolling(window=window_long).mean()\n",
    "\n",
    "# Define entry and exit signals based on SMA and EMA\n",
    "data['long_signal'] = data['ema_short'] > data['ema_long']  # EMA short > EMA long\n",
    "data['long_exit'] = data['ema_short'] < data['ema_long']    # EMA short < EMA long\n",
    "\n",
    "data['short_signal'] = data['sma_short'] < data['sma_long']  # SMA short < SMA long\n",
    "data['short_exit'] = data['sma_short'] > data['sma_long']    # SMA short > SMA long\n",
    "\n",
    "# Short Stocks\n",
    "btest = pd.DataFrame()\n",
    "btest[\"banknifty\"] = data[\"banknifty\"]\n",
    "btest[\"nifty\"] = data[\"nifty\"]\n",
    "btest[\"long_signal\"] = data['long_signal']\n",
    "btest[\"long_exit\"] = data['long_exit']\n",
    "btest[\"short_signal\"] = data['short_signal']\n",
    "btest[\"short_exit\"] = data['short_exit']\n",
    "\n",
    "spread_side = None\n",
    "counter = -1\n",
    "backtest_result = []\n",
    "stop_loss_percentage = 0.2  # Stop loss as 1%\n",
    "risk_reward_ratio = 2  # Risk to reward ratio 1:2\n",
    "\n",
    "for time, signals_stock in btest.iterrows():\n",
    "    counter += 1\n",
    "    stock2_, stock1_, long_signal, long_exit, short_signal, short_exit = signals_stock\n",
    "\n",
    "    if spread_side is None:\n",
    "        backtest_result.append([time, spread_side])\n",
    "\n",
    "        if long_signal:\n",
    "            spread_side = \"long\"\n",
    "            entry_price = data.at[time, 'Spread']\n",
    "            take_profit = entry_price + (entry_price * stop_loss_percentage * risk_reward_ratio)\n",
    "            stop_loss = entry_price - (entry_price * stop_loss_percentage)\n",
    "        elif short_signal:\n",
    "            spread_side = \"short\"\n",
    "            entry_price = data.at[time, 'Spread']\n",
    "            take_profit = entry_price - (entry_price * stop_loss_percentage * risk_reward_ratio)\n",
    "            stop_loss = entry_price + (entry_price * stop_loss_percentage)\n",
    "\n",
    "    elif spread_side == \"long\":\n",
    "        backtest_result.append([time, spread_side])\n",
    "\n",
    "        if data.at[time, 'Spread'] <= stop_loss or data.at[time, 'Spread'] >= take_profit or long_exit:\n",
    "            spread_side = None\n",
    "\n",
    "    elif spread_side == \"short\":\n",
    "        backtest_result.append([time, spread_side])\n",
    "\n",
    "        if data.at[time, 'Spread'] >= stop_loss or data.at[time, 'Spread'] <= take_profit or short_exit:\n",
    "            spread_side = None\n",
    "\n",
    "backtest_pandas = pd.DataFrame(backtest_result)\n",
    "backtest_pandas.columns = [\"Date\", \"Side\"]\n",
    "backtest_pandas['Spread'] = data['Spread'].values\n",
    "backtest_pandas['tte'] = data['tte'].values\n",
    "\n",
    "df, unrealized_pnl, realized_pnl = calculate_pnl(backtest_pandas)\n",
    "df = df.dropna(subset=['Daily Realized PnL'])\n",
    "\n",
    "# Calculate daily returns\n",
    "df['Daily Return'] = df['Daily Realized PnL'].pct_change()\n",
    "\n",
    "# Drop any NaN created by the pct_change method\n",
    "df = df.dropna(subset=['Daily Return'])\n",
    "df.replace([np.inf, -np.inf], np.nan, inplace=True)\n",
    "\n",
    "# Ensure there is more than one unique return value to avoid division by zero in standard deviation\n",
    "if df['Daily Return'].nunique() > 1:\n",
    "    average_daily_return = df['Daily Return'].mean()\n",
    "    std_dev_daily_return = df['Daily Return'].std()\n",
    "\n",
    "    # Assuming the risk-free rate is close to 0% (adjust if you have a specific rate)\n",
    "    risk_free_rate = 0.0\n",
    "    annual_factor = 252 * 25  # Adjust based on your data's frequency\n",
    "\n",
    "    # Calculate the Sharpe Ratio (annualized)\n",
    "    sharpe_ratio = ((average_daily_return - risk_free_rate) / std_dev_daily_return) * np.sqrt(annual_factor)\n",
    "    print(f\"Sharpe Ratio: {sharpe_ratio}\")\n",
    "else:\n",
    "    print(\"Insufficient variation in daily returns to calculate Sharpe Ratio.\")\n"
   ]
  }
 ],
 "metadata": {
  "kernelspec": {
   "display_name": "Python 3 (ipykernel)",
   "language": "python",
   "name": "python3"
  },
  "language_info": {
   "codemirror_mode": {
    "name": "ipython",
    "version": 3
   },
   "file_extension": ".py",
   "mimetype": "text/x-python",
   "name": "python",
   "nbconvert_exporter": "python",
   "pygments_lexer": "ipython3",
   "version": "3.9.7"
  }
 },
 "nbformat": 4,
 "nbformat_minor": 5
}
